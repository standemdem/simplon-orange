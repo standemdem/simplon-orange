{
 "cells": [
  {
   "cell_type": "code",
   "execution_count": 11,
   "metadata": {},
   "outputs": [
    {
     "ename": "IndentationError",
     "evalue": "unindent does not match any outer indentation level (<tokenize>, line 13)",
     "output_type": "error",
     "traceback": [
      "\u001b[0;36m  File \u001b[0;32m\"<tokenize>\"\u001b[0;36m, line \u001b[0;32m13\u001b[0m\n\u001b[0;31m    return a + b\u001b[0m\n\u001b[0m    ^\u001b[0m\n\u001b[0;31mIndentationError\u001b[0m\u001b[0;31m:\u001b[0m unindent does not match any outer indentation level\n"
     ]
    }
   ],
   "source": [
    "def add(a:int, b:int) -> int:\n",
    "        \"\"\"\n",
    "        Do I neeed to explain this ?\n",
    " \n",
    "        :Example:\n",
    " \n",
    "        >>> add(1, 1)\n",
    "        2\n",
    "        >>> add(2.1, 3.4)  # all int compatible types work\n",
    "        5.5\n",
    " \n",
    "    \"\"\"\n",
    "    return a + b\n",
    " \n",
    "# A la fin de votre script, mettez ce snippet qui va activer les doctest\n",
    "if __name__ == \"__main__\":\n",
    "    import doctest\n",
    "    doctest.testmod()"
   ]
  },
  {
   "cell_type": "code",
   "execution_count": 12,
   "metadata": {},
   "outputs": [
    {
     "data": {
      "text/plain": [
       "5.5"
      ]
     },
     "execution_count": 12,
     "metadata": {},
     "output_type": "execute_result"
    }
   ],
   "source": [
    "add(3.5, 2)"
   ]
  },
  {
   "cell_type": "code",
   "execution_count": 9,
   "metadata": {},
   "outputs": [
    {
     "name": "stdout",
     "output_type": "stream",
     "text": [
      "Help on function add in module __main__:\n",
      "\n",
      "add(a: int, b: int) -> int\n",
      "    Do I neeed to explain this ?\n",
      "    \n",
      "    :Example:\n",
      "    \n",
      "    >>> add(1, 1)\n",
      "    2\n",
      "    >>> add(2.1, 3.4)  # all int compatible types work\n",
      "    5.5\n",
      "\n"
     ]
    }
   ],
   "source": [
    "help(add)"
   ]
  },
  {
   "cell_type": "code",
   "execution_count": 13,
   "metadata": {},
   "outputs": [],
   "source": [
    "class SimpleClass:\n",
    "    \"\"\"Class docstrings go here.\"\"\"\n",
    "\n",
    "    def say_hello(self, name: str):\n",
    "        \"\"\"Class method docstrings go here.\"\"\"\n",
    "\n",
    "        print(f'Hello {name}')\n"
   ]
  },
  {
   "cell_type": "code",
   "execution_count": null,
   "metadata": {},
   "outputs": [],
   "source": []
  },
  {
   "cell_type": "code",
   "execution_count": null,
   "metadata": {},
   "outputs": [],
   "source": []
  }
 ],
 "metadata": {
  "kernelspec": {
   "display_name": "Python 3",
   "language": "python",
   "name": "python3"
  },
  "language_info": {
   "codemirror_mode": {
    "name": "ipython",
    "version": 3
   },
   "file_extension": ".py",
   "mimetype": "text/x-python",
   "name": "python",
   "nbconvert_exporter": "python",
   "pygments_lexer": "ipython3",
   "version": "3.7.3"
  }
 },
 "nbformat": 4,
 "nbformat_minor": 2
}
