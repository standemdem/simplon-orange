{
 "cells": [
  {
   "cell_type": "code",
   "execution_count": 1,
   "metadata": {},
   "outputs": [],
   "source": [
    "import numpy as np"
   ]
  },
  {
   "cell_type": "code",
   "execution_count": 2,
   "metadata": {},
   "outputs": [],
   "source": [
    "class Net():\n",
    "    \n",
    "    def __init__(self):\n",
    "        self.layers = []\n",
    "        \n",
    "    def add(self, layer):\n",
    "        self.layers.append(layer)\n",
    "        \n",
    "    def forward(self, X):\n",
    "        A = X\n",
    "        for layer in self.layers:\n",
    "            A = layer.forward(A)\n",
    "        return A\n",
    "\n",
    "    def compute_cost(self, A, Y):\n",
    "        loss = - (np.log(A) * Y + np.log(1 - A) * (1 - Y))\n",
    "        cost = np.sum(loss, axis=1, keepdims=True) / m\n",
    "        cost = np.round(np.squeeze(cost), 3)\n",
    "        return cost\n",
    "    \n",
    "    def backward_pass(self, dERROR, learning_rate):\n",
    "        for layer in reversed(self.layers):\n",
    "            dERROR = layer.backward(dERROR, learning_rate)\n",
    "            \n",
    "    def get_accuracy(self, A, Y):\n",
    "        preds = np.round(A, decimals=0)\n",
    "        \n",
    "        results = (Y == preds)\n",
    "        results = np.squeeze(np.sum(results, axis = 1, keepdims=True))\n",
    "        \n",
    "        rate = results / m\n",
    "        return round(rate, 3)\n",
    "\n",
    "    def train(self, X, Y, learning_rate, epochs=20):\n",
    "        for e in range(epochs):\n",
    "            A = self.forward(X)\n",
    "            dERROR = - (Y/A) + ((1-Y)/(1-A))\n",
    "            if e % 500 == 0:\n",
    "                rate = self.get_accuracy(A,Y)\n",
    "                print(\"Epoch:\", e, \"Cost: \", self.compute_cost(A, Y), \"Acc:\", rate)\n",
    "            self.backward_pass(dERROR, learning_rate)\n",
    "\n",
    "    \n"
   ]
  },
  {
   "cell_type": "code",
   "execution_count": 3,
   "metadata": {},
   "outputs": [],
   "source": [
    "class LayerFC():\n",
    "    \n",
    "    def __init__(self, n_x, n_h):\n",
    "        self.W = np.random.randn(n_h, n_x) * np.sqrt(2 / n_x)\n",
    "        self.b = np.zeros((n_h, 1))\n",
    "    \n",
    "    def forward(self, A_prev):\n",
    "        self.A_prev = A_prev\n",
    "        self.Z = np.dot(self.W, self.A_prev) + self.b\n",
    "        return self.Z\n",
    "    \n",
    "    def backward(self, dERROR, learning_rate):\n",
    "        dW = (1 / m) * np.dot(dERROR, self.A_prev.T)\n",
    "        db = (1 / m) * np.sum(dERROR, axis=1, keepdims=True)\n",
    "        dERROR = np.dot(self.W.T, dERROR)\n",
    "        \n",
    "        self.W = self.W - learning_rate * dW        \n",
    "        self.b = self.b - learning_rate * db        \n",
    "        \n",
    "        return dERROR"
   ]
  },
  {
   "cell_type": "code",
   "execution_count": 4,
   "metadata": {},
   "outputs": [],
   "source": [
    "class LayerSigmoid():\n",
    "    \n",
    "    def forward(self, Z):\n",
    "        self.A = 1 / (1 + np.exp(-Z))\n",
    "        return self.A\n",
    "    \n",
    "    def backward(self, dERROR, learning_rate):\n",
    "        derivative = self.A * (1 - self.A)\n",
    "        dERROR = dERROR * derivative        \n",
    "        return dERROR\n"
   ]
  },
  {
   "cell_type": "code",
   "execution_count": 5,
   "metadata": {},
   "outputs": [],
   "source": [
    "class LayerTanh():\n",
    "    \n",
    "    def forward(self, Z):\n",
    "        self.A = np.tanh(Z)\n",
    "        return self.A\n",
    "    \n",
    "    def backward(self, dERROR, learning_rate):\n",
    "        derivative = 1 - np.square(self.A)\n",
    "        dERROR = dERROR * derivative\n",
    "        return dERROR"
   ]
  },
  {
   "cell_type": "code",
   "execution_count": 6,
   "metadata": {},
   "outputs": [],
   "source": [
    "class LayerRelu():\n",
    "    \n",
    "    def forward(self, Z):\n",
    "        self.A = np.maximum(0, Z)\n",
    "        return self.A\n",
    "    \n",
    "    def backward(self, dERROR, learning_rate):\n",
    "        derivative = (self.A > 0).astype(float)\n",
    "        dERROR = dERROR * derivative\n",
    "        return dERROR"
   ]
  },
  {
   "cell_type": "code",
   "execution_count": 7,
   "metadata": {},
   "outputs": [
    {
     "data": {
      "text/plain": [
       "((2, 220), (1, 220))"
      ]
     },
     "execution_count": 7,
     "metadata": {},
     "output_type": "execute_result"
    }
   ],
   "source": [
    "n_x = 2\n",
    "m = 220\n",
    "X = np.random.randn(n_x, m)\n",
    "\n",
    "mask1 = X[0, :] > 0\n",
    "mask2 = X[1, :] > 0\n",
    "\n",
    "Y = np.logical_xor(mask1, mask2)\n",
    "Y = Y.reshape(1, m)\n",
    "\n",
    "X.shape, Y.shape"
   ]
  },
  {
   "cell_type": "code",
   "execution_count": 8,
   "metadata": {},
   "outputs": [],
   "source": [
    "net = Net()\n",
    "net.add(LayerFC(X.shape[0],2))\n",
    "net.add(LayerSigmoid())\n",
    "net.add(LayerFC(2, 2))\n",
    "net.add(LayerSigmoid())\n",
    "net.add(LayerFC(2, 1))\n",
    "net.add(LayerSigmoid())"
   ]
  },
  {
   "cell_type": "code",
   "execution_count": 12,
   "metadata": {},
   "outputs": [
    {
     "name": "stdout",
     "output_type": "stream",
     "text": [
      "Epoch: 0 Cost:  0.402 Acc: 0.773\n",
      "Epoch: 500 Cost:  0.321 Acc: 0.914\n",
      "Epoch: 1000 Cost:  0.252 Acc: 0.941\n",
      "Epoch: 1500 Cost:  0.204 Acc: 0.955\n",
      "Epoch: 2000 Cost:  0.171 Acc: 0.959\n",
      "Epoch: 2500 Cost:  0.147 Acc: 0.968\n",
      "Epoch: 3000 Cost:  0.13 Acc: 0.982\n",
      "Epoch: 3500 Cost:  0.117 Acc: 0.982\n",
      "Epoch: 4000 Cost:  0.107 Acc: 0.982\n",
      "Epoch: 4500 Cost:  0.098 Acc: 0.986\n"
     ]
    }
   ],
   "source": [
    "net.train(X, Y, epochs=5000, learning_rate=0.09)"
   ]
  },
  {
   "cell_type": "code",
   "execution_count": 13,
   "metadata": {},
   "outputs": [],
   "source": [
    "net = Net()\n",
    "net.add(LayerFC(X.shape[0],2))\n",
    "net.add(LayerTanh())\n",
    "net.add(LayerFC(2, 2))\n",
    "net.add(LayerTanh())\n",
    "net.add(LayerFC(2, 1))\n",
    "net.add(LayerSigmoid())"
   ]
  },
  {
   "cell_type": "code",
   "execution_count": 18,
   "metadata": {},
   "outputs": [
    {
     "name": "stdout",
     "output_type": "stream",
     "text": [
      "Epoch: 0 Cost:  0.503 Acc: 0.777\n",
      "Epoch: 500 Cost:  0.503 Acc: 0.777\n",
      "Epoch: 1000 Cost:  0.503 Acc: 0.777\n",
      "Epoch: 1500 Cost:  0.503 Acc: 0.777\n",
      "Epoch: 2000 Cost:  0.503 Acc: 0.777\n",
      "Epoch: 2500 Cost:  0.503 Acc: 0.773\n",
      "Epoch: 3000 Cost:  0.503 Acc: 0.773\n",
      "Epoch: 3500 Cost:  0.503 Acc: 0.773\n",
      "Epoch: 4000 Cost:  0.503 Acc: 0.773\n",
      "Epoch: 4500 Cost:  0.503 Acc: 0.773\n"
     ]
    }
   ],
   "source": [
    "net.train(X, Y, epochs=5000, learning_rate=0.09)"
   ]
  },
  {
   "cell_type": "code",
   "execution_count": 19,
   "metadata": {},
   "outputs": [],
   "source": [
    "net = Net()\n",
    "net.add(LayerFC(X.shape[0],2))\n",
    "net.add(LayerTanh())\n",
    "net.add(LayerFC(2, 2))\n",
    "net.add(LayerTanh())\n",
    "net.add(LayerFC(2, 1))\n",
    "net.add(LayerSigmoid())"
   ]
  },
  {
   "cell_type": "code",
   "execution_count": 21,
   "metadata": {},
   "outputs": [
    {
     "name": "stdout",
     "output_type": "stream",
     "text": [
      "Epoch: 0 Cost:  0.399 Acc: 0.791\n",
      "Epoch: 500 Cost:  0.381 Acc: 0.827\n",
      "Epoch: 1000 Cost:  0.148 Acc: 0.95\n",
      "Epoch: 1500 Cost:  0.096 Acc: 0.968\n",
      "Epoch: 2000 Cost:  0.073 Acc: 0.977\n",
      "Epoch: 2500 Cost:  0.059 Acc: 0.986\n",
      "Epoch: 3000 Cost:  0.05 Acc: 0.986\n",
      "Epoch: 3500 Cost:  0.042 Acc: 0.995\n",
      "Epoch: 4000 Cost:  0.037 Acc: 0.995\n",
      "Epoch: 4500 Cost:  0.033 Acc: 0.995\n"
     ]
    }
   ],
   "source": [
    "net.train(X, Y, epochs=5000, learning_rate=0.09)"
   ]
  },
  {
   "cell_type": "code",
   "execution_count": null,
   "metadata": {},
   "outputs": [],
   "source": []
  }
 ],
 "metadata": {
  "kernelspec": {
   "display_name": "Python 3",
   "language": "python",
   "name": "python3"
  },
  "language_info": {
   "codemirror_mode": {
    "name": "ipython",
    "version": 3
   },
   "file_extension": ".py",
   "mimetype": "text/x-python",
   "name": "python",
   "nbconvert_exporter": "python",
   "pygments_lexer": "ipython3",
   "version": "3.7.3"
  }
 },
 "nbformat": 4,
 "nbformat_minor": 2
}
