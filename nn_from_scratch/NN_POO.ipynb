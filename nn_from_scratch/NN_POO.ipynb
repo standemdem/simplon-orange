{
 "cells": [
  {
   "cell_type": "code",
   "execution_count": 64,
   "metadata": {},
   "outputs": [],
   "source": [
    "import numpy as np"
   ]
  },
  {
   "cell_type": "code",
   "execution_count": 65,
   "metadata": {},
   "outputs": [],
   "source": [
    "class Net():\n",
    "    \n",
    "    def __init__(self):\n",
    "        self.layers = []\n",
    "        \n",
    "    def add(self, layer):\n",
    "        self.layers.append(layer)\n",
    "        \n",
    "    def forward(self, X):\n",
    "        A = X\n",
    "        for layer in self.layers:\n",
    "            A = layer.forward(A)\n",
    "        return A\n",
    "\n",
    "    def compute_cost(self, A, Y):\n",
    "        loss = - (np.log(A) * Y + np.log(1 - A) * (1 - Y))\n",
    "        cost = np.sum(loss, axis=1, keepdims=True) / m\n",
    "        cost = np.round(np.squeeze(cost), 3)\n",
    "        return cost\n",
    "    \n",
    "    def backward_pass(self, dERROR, learning_rate):\n",
    "        for layer in reversed(self.layers):\n",
    "            dERROR = layer.backward(dERROR, learning_rate)\n",
    "            \n",
    "    def get_accuracy(self, A, Y):\n",
    "        preds = np.round(A, decimals=0)\n",
    "        \n",
    "        results = (Y == preds)\n",
    "        results = np.squeeze(np.sum(results, axis = 1, keepdims=True))\n",
    "        \n",
    "        rate = results / m\n",
    "        return round(rate, 3)\n",
    "\n",
    "    def train(self, X, Y, learning_rate, epochs=20):\n",
    "        for e in range(epochs):\n",
    "            A = self.forward(X)\n",
    "            dERROR = - (Y/A) + ((1-Y)/(1-A))\n",
    "            if e % 500 == 0:\n",
    "                rate = self.get_accuracy(A,Y)\n",
    "                print(\"Epoch:\", e, \"Cost: \", self.compute_cost(A, Y), \"Acc:\", rate)\n",
    "            self.backward_pass(dERROR, learning_rate)\n",
    "\n",
    "    \n"
   ]
  },
  {
   "cell_type": "code",
   "execution_count": 66,
   "metadata": {},
   "outputs": [],
   "source": [
    "class LayerFC():\n",
    "    \n",
    "    def __init__(self, n_x, n_h):\n",
    "        self.W = np.random.randn(n_h, n_x) * np.sqrt(2 / n_x)\n",
    "        self.b = np.zeros((n_h, 1))\n",
    "    \n",
    "    def forward(self, A_prev):\n",
    "        self.A_prev = A_prev\n",
    "        self.Z = np.dot(self.W, self.A_prev) + self.b\n",
    "        return self.Z\n",
    "    \n",
    "    def backward(self, dERROR, learning_rate):\n",
    "        dW = (1 / m) * np.dot(dERROR, self.A_prev.T)\n",
    "        db = (1 / m) * np.sum(dERROR, axis=1, keepdims=True)\n",
    "        dERROR = np.dot(self.W.T, dERROR)\n",
    "        \n",
    "        self.W = self.W - learning_rate * dW        \n",
    "        self.b = self.b - learning_rate * db        \n",
    "        \n",
    "        return dERROR"
   ]
  },
  {
   "cell_type": "code",
   "execution_count": 67,
   "metadata": {},
   "outputs": [],
   "source": [
    "class LayerSigmoid():\n",
    "    \n",
    "    def forward(self, Z):\n",
    "        self.A = 1 / (1 + np.exp(-Z))\n",
    "        return self.A\n",
    "    \n",
    "    def backward(self, dERROR, learning_rate):\n",
    "        derivative = self.A * (1 - self.A)\n",
    "        dERROR = dERROR * derivative        \n",
    "        return dERROR\n"
   ]
  },
  {
   "cell_type": "code",
   "execution_count": 82,
   "metadata": {},
   "outputs": [],
   "source": [
    "class LayerTanh():\n",
    "    \n",
    "    def forward(self, Z):\n",
    "        self.A = np.tanh(Z)\n",
    "        return self.A\n",
    "    \n",
    "    def backward(self, dERROR, learning_rate):\n",
    "        derivative = 1 - np.square(self.A)\n",
    "        dERROR = dERROR * derivative\n",
    "        return dERROR"
   ]
  },
  {
   "cell_type": "code",
   "execution_count": 93,
   "metadata": {},
   "outputs": [],
   "source": [
    "class LayerRelu():\n",
    "    \n",
    "    def forward(self, Z):\n",
    "        self.A = np.maximum(0, Z)\n",
    "        return self.A\n",
    "    \n",
    "    def backward(self, dERROR, learning_rate):\n",
    "        derivative = (self.A > 0).astype(float)\n",
    "        dERROR = dERROR * derivative\n",
    "        return dERROR"
   ]
  },
  {
   "cell_type": "code",
   "execution_count": 68,
   "metadata": {},
   "outputs": [
    {
     "data": {
      "text/plain": [
       "((2, 220), (1, 220))"
      ]
     },
     "execution_count": 68,
     "metadata": {},
     "output_type": "execute_result"
    }
   ],
   "source": [
    "n_x = 2\n",
    "m = 220\n",
    "X = np.random.randn(n_x, m)\n",
    "\n",
    "mask1 = X[0, :] > 0\n",
    "mask2 = X[1, :] > 0\n",
    "\n",
    "Y = np.logical_xor(mask1, mask2)\n",
    "Y = Y.reshape(1, m)\n",
    "\n",
    "X.shape, Y.shape"
   ]
  },
  {
   "cell_type": "code",
   "execution_count": 69,
   "metadata": {},
   "outputs": [],
   "source": [
    "net = Net()\n",
    "net.add(LayerFC(X.shape[0],2))\n",
    "net.add(LayerSigmoid())\n",
    "net.add(LayerFC(2, 2))\n",
    "net.add(LayerSigmoid())\n",
    "net.add(LayerFC(2, 1))\n",
    "net.add(LayerSigmoid())"
   ]
  },
  {
   "cell_type": "code",
   "execution_count": 80,
   "metadata": {},
   "outputs": [
    {
     "name": "stdout",
     "output_type": "stream",
     "text": [
      "Epoch: 0 Cost:  0.399 Acc: 0.795\n",
      "Epoch: 500 Cost:  0.399 Acc: 0.795\n",
      "Epoch: 1000 Cost:  0.399 Acc: 0.795\n",
      "Epoch: 1500 Cost:  0.399 Acc: 0.795\n",
      "Epoch: 2000 Cost:  0.399 Acc: 0.8\n",
      "Epoch: 2500 Cost:  0.398 Acc: 0.8\n",
      "Epoch: 3000 Cost:  0.398 Acc: 0.8\n",
      "Epoch: 3500 Cost:  0.398 Acc: 0.8\n",
      "Epoch: 4000 Cost:  0.398 Acc: 0.8\n",
      "Epoch: 4500 Cost:  0.398 Acc: 0.8\n"
     ]
    }
   ],
   "source": [
    "net.train(X, Y, epochs=5000, learning_rate=0.09)"
   ]
  },
  {
   "cell_type": "code",
   "execution_count": 91,
   "metadata": {},
   "outputs": [],
   "source": [
    "net = Net()\n",
    "net.add(LayerFC(X.shape[0],2))\n",
    "net.add(LayerTanh())\n",
    "net.add(LayerFC(2, 2))\n",
    "net.add(LayerTanh())\n",
    "net.add(LayerFC(2, 1))\n",
    "net.add(LayerSigmoid())"
   ]
  },
  {
   "cell_type": "code",
   "execution_count": 92,
   "metadata": {},
   "outputs": [
    {
     "name": "stdout",
     "output_type": "stream",
     "text": [
      "Epoch: 0 Cost:  0.729 Acc: 0.45\n",
      "Epoch: 500 Cost:  0.313 Acc: 0.941\n",
      "Epoch: 1000 Cost:  0.123 Acc: 0.982\n",
      "Epoch: 1500 Cost:  0.074 Acc: 0.991\n",
      "Epoch: 2000 Cost:  0.051 Acc: 0.995\n",
      "Epoch: 2500 Cost:  0.039 Acc: 0.995\n",
      "Epoch: 3000 Cost:  0.03 Acc: 1.0\n",
      "Epoch: 3500 Cost:  0.025 Acc: 1.0\n",
      "Epoch: 4000 Cost:  0.021 Acc: 1.0\n",
      "Epoch: 4500 Cost:  0.018 Acc: 1.0\n"
     ]
    }
   ],
   "source": [
    "net.train(X, Y, epochs=5000, learning_rate=0.09)"
   ]
  },
  {
   "cell_type": "code",
   "execution_count": null,
   "metadata": {},
   "outputs": [],
   "source": [
    "net = Net()\n",
    "net.add(LayerFC(X.shape[0],2))\n",
    "net.add(LayerTanh())\n",
    "net.add(LayerFC(2, 2))\n",
    "net.add(LayerTanh())\n",
    "net.add(LayerFC(2, 1))\n",
    "net.add(LayerSigmoid())"
   ]
  }
 ],
 "metadata": {
  "kernelspec": {
   "display_name": "Python 3",
   "language": "python",
   "name": "python3"
  },
  "language_info": {
   "codemirror_mode": {
    "name": "ipython",
    "version": 3
   },
   "file_extension": ".py",
   "mimetype": "text/x-python",
   "name": "python",
   "nbconvert_exporter": "python",
   "pygments_lexer": "ipython3",
   "version": "3.7.3"
  }
 },
 "nbformat": 4,
 "nbformat_minor": 2
}
