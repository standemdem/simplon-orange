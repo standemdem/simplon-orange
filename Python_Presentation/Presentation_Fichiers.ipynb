{
 "cells": [
  {
   "cell_type": "markdown",
   "metadata": {},
   "source": [
    "# Gestion des fichiers\n",
    "\n",
    "Pourquoi lire ou écrire dans des fichiers ? Pour stocker des données de manière pérenne.\n",
    "\n",
    "Quand vous fermez votre programme, aucune de vos variables n'est sauvegardée. Les fichiers peuvent être, justement, un excellent moyen de garder les valeurs de certains objets pour pouvoir les récupérer quand vous rouvrirez votre programme.\n",
    "\n",
    "Afin de rédiger des programmes plus longs, préparer votre code dans un fichier et exécuter Python avec ce fichier en paramètre. Lorsque votre programme grandit, vous pouvez séparer votre code dans plusieurs fichiers. Ainsi, il vous est facile de réutiliser des fonctions écrites pour un programme dans un autre sans avoir à les copier.\n",
    "\n",
    "Pour gérer cela, Python vous permet de placer des définitions et des instructions dans un fichier et de les utiliser dans un script ou une session interactive.\n",
    "\n",
    "\n",
    "## Modules principaux\n",
    "\n",
    "Les modules principaux sont:\n",
    "\n",
    "### sys\n",
    "\n",
    "Accès à certaines variables utilisées par l’interpréteur et à des fonctions. Ce module est toujours disponible.\n",
    "exemple : from sys import argv\n",
    "\n",
    "\n",
    "### os\n",
    "\n",
    "Implémente certaines fonctions relatives aux path names.\n",
    "exemple: import os.path\n",
    "\n",
    "\n",
    "### csv\n",
    "\n",
    "Le format CSV (Comma Separated Values, valeurs séparées par des virgules) est le format le plus commun dans l'import et l'export de feuilles de calculs et de bases de données\n",
    "\n",
    "\n",
    "## Ouverture, Ecriture, Lecture \n",
    "\n",
    "Pour éditer un fichier en python on utilise la fonction open() .\n",
    "\n",
    "Cette fonction prend en premier paramètre le chemin du fichier (relatif ou absolu) et en second paramètre le type d'ouverture.\n",
    "\n",
    "Il y a 4 méthodes différentes pour travailler avec les fichiers avec python:\n",
    "\n",
    "    \"r'\"- Read - Valeur par défaut. Ouvre un fichier pour la lecture, erreur si le fichier n'existe pas.\n",
    "    \n",
    "    \"a\" - Append - Ouvre un fichier pour ajouter, crée le fichier s'il n'existe pas.\n",
    "    \n",
    "    \"w\" - Write - Ouvre un fichier pour l'écriture, crée le fichier s'il n'existe pas.\n",
    "    \n",
    "    \"x\" - Create - Crée le fichier spécifié, erreur si le fichier existe déjà.\n",
    "    \n",
    "En addition on peut spécifier si le fichier doit être gérer en mode texte ou binaire.\n",
    "\n",
    "    \"t\" - Text - Valeur par défaut, mode texte.\n",
    "    \n",
    "    \"b\" - Binary - Mode binaire.\n",
    "\n"
   ]
  },
  {
   "cell_type": "code",
   "execution_count": 8,
   "metadata": {
    "collapsed": true
   },
   "outputs": [
    {
     "ename": "SyntaxError",
     "evalue": "Missing parentheses in call to 'print'. Did you mean print(fichier)? (<ipython-input-8-705925ac1909>, line 3)",
     "output_type": "error",
     "traceback": [
      "\u001b[0;36m  File \u001b[0;32m\"<ipython-input-8-705925ac1909>\"\u001b[0;36m, line \u001b[0;32m3\u001b[0m\n\u001b[0;31m    print fichier\u001b[0m\n\u001b[0m                ^\u001b[0m\n\u001b[0;31mSyntaxError\u001b[0m\u001b[0;31m:\u001b[0m Missing parentheses in call to 'print'. Did you mean print(fichier)?\n"
     ]
    }
   ],
   "source": [
    "fichier = open(\"data.txt\", \"r\")\n",
    "print(fichier.read())\n",
    "fichier.close()\n",
    "\n",
    "f = open(\"data.txt\", \"a\")\n",
    "f.write(\"Maintenant le fichier a plus de texte!\")\n",
    "f.close()"
   ]
  },
  {
   "cell_type": "markdown",
   "metadata": {},
   "source": [
    "### La méthode with, as "
   ]
  },
  {
   "cell_type": "code",
   "execution_count": null,
   "metadata": {},
   "outputs": [],
   "source": [
    "with open(\"x.txt\") as f:\n",
    "    data = f.read()\n",
    "    do something with data"
   ]
  },
  {
   "cell_type": "markdown",
   "metadata": {},
   "source": [
    "### Autres fonctionnalités"
   ]
  },
  {
   "cell_type": "markdown",
   "metadata": {},
   "source": [
    "- Positionnement\n",
    "- Iteration\n",
    "- Split & /join\n",
    "- Droits\n",
    "- Suppression\n",
    "- Encodage & Type"
   ]
  },
  {
   "cell_type": "code",
   "execution_count": null,
   "metadata": {},
   "outputs": [],
   "source": []
  }
 ],
 "metadata": {
  "kernelspec": {
   "display_name": "Python 3",
   "language": "python",
   "name": "python3"
  },
  "language_info": {
   "codemirror_mode": {
    "name": "ipython",
    "version": 3
   },
   "file_extension": ".py",
   "mimetype": "text/x-python",
   "name": "python",
   "nbconvert_exporter": "python",
   "pygments_lexer": "ipython3",
   "version": "3.7.1"
  }
 },
 "nbformat": 4,
 "nbformat_minor": 2
}
