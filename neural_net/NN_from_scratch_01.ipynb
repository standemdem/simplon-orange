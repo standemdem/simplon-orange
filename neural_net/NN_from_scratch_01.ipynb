{
 "cells": [
  {
   "cell_type": "code",
   "execution_count": 1,
   "metadata": {},
   "outputs": [],
   "source": [
    "import numpy as np\n",
    "import pandas as pd\n",
    "import matplotlib.pyplot as plt"
   ]
  },
  {
   "cell_type": "markdown",
   "metadata": {},
   "source": [
    "## Creation of dataset\n"
   ]
  },
  {
   "cell_type": "code",
   "execution_count": 2,
   "metadata": {},
   "outputs": [],
   "source": [
    "nb_examples = 4\n",
    "\n",
    "X_train = np.random.randint(1, 100, size = (nb_examples,1)).T\n",
    "X_test = np.random.randint(1, 100, size = (nb_examples,1)).T\n",
    "\n",
    "Y_train = np.round(X_train / 100).astype(int)\n",
    "Y_test = np.round(X_test / 100).astype(int)\n"
   ]
  },
  {
   "cell_type": "code",
   "execution_count": 45,
   "metadata": {},
   "outputs": [
    {
     "name": "stdout",
     "output_type": "stream",
     "text": [
      "(1, 4)\n",
      "[[84 69 66 62]]\n"
     ]
    }
   ],
   "source": [
    "print(Y_train.shape)\n",
    "print(X_train)"
   ]
  },
  {
   "cell_type": "markdown",
   "metadata": {},
   "source": [
    "## Coding the helper functions"
   ]
  },
  {
   "cell_type": "code",
   "execution_count": 4,
   "metadata": {},
   "outputs": [],
   "source": [
    "def sigmoid(Z):\n",
    "    cache = Z\n",
    "    A = 1 / (1 + np.exp(- Z))\n",
    "    return A, cache"
   ]
  },
  {
   "cell_type": "code",
   "execution_count": 5,
   "metadata": {},
   "outputs": [],
   "source": [
    "def relu(Z):\n",
    "    cache = Z\n",
    "    A = np.maximum(0, Z)\n",
    "    return A, cache"
   ]
  },
  {
   "cell_type": "code",
   "execution_count": 6,
   "metadata": {},
   "outputs": [],
   "source": [
    "def leaky_relu(Z):\n",
    "    cache = Z\n",
    "    A = np.maximum(0.01 ,Z)\n",
    "    return A, cache"
   ]
  },
  {
   "cell_type": "code",
   "execution_count": 7,
   "metadata": {},
   "outputs": [],
   "source": [
    "def tanh(Z):\n",
    "    cache = Z\n",
    "    A = np.tanh(Z)\n",
    "    return A, cache"
   ]
  },
  {
   "cell_type": "code",
   "execution_count": 32,
   "metadata": {},
   "outputs": [],
   "source": [
    "def initialize(layers_dims):\n",
    "    \n",
    "    params = {}\n",
    "    L = len(layers_dims)\n",
    "    \n",
    "    for l in range(1, L):\n",
    "        params[f'W{l}'] = np.random.randn(layers_dims[l], layers_dims[l-1])*0.01\n",
    "        params[f'b{l}'] = np.zeros((layers_dims[l], 1))\n",
    "    \n",
    "    return params"
   ]
  },
  {
   "cell_type": "code",
   "execution_count": 33,
   "metadata": {},
   "outputs": [],
   "source": [
    "layers_dims = [1,4,7,4,1]\n",
    "params = initialize(layers_dims)\n"
   ]
  },
  {
   "cell_type": "code",
   "execution_count": 34,
   "metadata": {},
   "outputs": [],
   "source": [
    "def linear_forward(A_prev, W, b):\n",
    "    \n",
    "    Z = np.dot(W, A_prev) + b\n",
    "    \n",
    "    assert (Z.shape == (W.shape[0], A_prev.shape[1]))\n",
    "    \n",
    "    cache = (A_prev, W, b)\n",
    "    \n",
    "    return Z, cache\n",
    "    "
   ]
  },
  {
   "cell_type": "code",
   "execution_count": 35,
   "metadata": {},
   "outputs": [],
   "source": [
    "# result = linear_forward(X_train, params['W1'], params['b1'])\n"
   ]
  },
  {
   "cell_type": "code",
   "execution_count": 36,
   "metadata": {},
   "outputs": [],
   "source": [
    "# print(result[0].shape)"
   ]
  },
  {
   "cell_type": "code",
   "execution_count": 37,
   "metadata": {},
   "outputs": [],
   "source": [
    "def activation_forward(A_prev, W, b, activation):\n",
    "    \n",
    "    \n",
    "    Z, linear_cache = linear_forward(A_prev, W, b)\n",
    "    \n",
    "    if activation == 'sigmoid':\n",
    "        A, activation_cache = sigmoid(Z)\n",
    "    elif activation == 'relu':\n",
    "        A, activation_cache = relu(Z)\n",
    "    elif activation == 'leaky_relu':\n",
    "        A, activation_cache = leaky_relu(Z)\n",
    "    elif activation == 'tanh':        \n",
    "        A, activation_cache = tanh(Z)\n",
    "    else:\n",
    "        raise Exception(f'{activation} function is not known ')\n",
    "    \n",
    "    assert(A.shape == (W.shape[0], A_prev.shape[1]))\n",
    "    \n",
    "    cache = (linear_cache, activation_cache)\n",
    "    \n",
    "    return A, cache"
   ]
  },
  {
   "cell_type": "code",
   "execution_count": 38,
   "metadata": {},
   "outputs": [],
   "source": [
    "res2 = activation_forward(X_train, params['W1'], params['b1'], activation = 'sigmoid')"
   ]
  },
  {
   "cell_type": "code",
   "execution_count": 39,
   "metadata": {},
   "outputs": [
    {
     "name": "stdout",
     "output_type": "stream",
     "text": [
      "(4, 4)\n"
     ]
    }
   ],
   "source": [
    "print(res2[0].shape)"
   ]
  },
  {
   "cell_type": "code",
   "execution_count": 40,
   "metadata": {},
   "outputs": [],
   "source": [
    "def L_model_forward(X, params):\n",
    "    \n",
    "    L = len(params) // 2\n",
    "    A = X\n",
    "    \n",
    "    caches = []\n",
    "    \n",
    "    # forward prop for the L-1 layers\n",
    "    for l in range(1, L):\n",
    "        A_prev = A\n",
    "        A, cache = activation_forward(A_prev, params[f'W{l}'], params[f'b{l}'], activation='relu') \n",
    "        caches.append(cache)\n",
    "    \n",
    "    #forward prop for the L layer (output layer)\n",
    "    AL, cache = activation_forward(A, params[f'W{L}'], params[f'b{L}'], activation = 'sigmoid')\n",
    "    caches.append(cache)\n",
    "\n",
    "    assert (AL.shape == (1, X.shape[1]))\n",
    "    \n",
    "    return AL, caches"
   ]
  },
  {
   "cell_type": "code",
   "execution_count": 41,
   "metadata": {},
   "outputs": [
    {
     "name": "stdout",
     "output_type": "stream",
     "text": [
      "[[0.49999985 0.49999988 0.49999988 0.49999989]]\n"
     ]
    }
   ],
   "source": [
    "AL, caches = L_model_forward(X_train, params)\n",
    "print(AL)"
   ]
  },
  {
   "cell_type": "code",
   "execution_count": 42,
   "metadata": {},
   "outputs": [],
   "source": [
    "def cost_function(AL, Y):\n",
    "    \n",
    "    m = Y.shape[1]\n",
    "    \n",
    "    cost = - (Y * np.log(AL).T + (1 - Y) * np.log(1 - AL).T) / m\n",
    "    cost = np.squeeze(cost)\n",
    "    \n",
    "    return cost"
   ]
  },
  {
   "cell_type": "code",
   "execution_count": 43,
   "metadata": {},
   "outputs": [],
   "source": [
    "test = cost_function(AL, Y_train)"
   ]
  },
  {
   "cell_type": "code",
   "execution_count": 44,
   "metadata": {},
   "outputs": [
    {
     "name": "stdout",
     "output_type": "stream",
     "text": [
      "[[0.17328687 0.17328687 0.17328687 0.17328687]\n",
      " [0.17328686 0.17328686 0.17328686 0.17328686]\n",
      " [0.17328685 0.17328685 0.17328685 0.17328685]\n",
      " [0.17328685 0.17328685 0.17328685 0.17328685]]\n"
     ]
    }
   ],
   "source": [
    "print(test)"
   ]
  },
  {
   "cell_type": "markdown",
   "metadata": {},
   "source": [
    "## Backward propagation helper functions\n"
   ]
  },
  {
   "cell_type": "code",
   "execution_count": 21,
   "metadata": {},
   "outputs": [
    {
     "name": "stderr",
     "output_type": "stream",
     "text": [
      "/home/stanislas/anaconda3/lib/python3.7/site-packages/ipykernel_launcher.py:1: RuntimeWarning: invalid value encountered in true_divide\n",
      "  \"\"\"Entry point for launching an IPython kernel.\n"
     ]
    },
    {
     "data": {
      "text/plain": [
       "array([[nan, nan, nan, nan]])"
      ]
     },
     "execution_count": 21,
     "metadata": {},
     "output_type": "execute_result"
    }
   ],
   "source": [
    "dAL = -(np.divide(Y_train,AL) - np.divide(1-Y_train, 1 - AL))\n",
    "dAL"
   ]
  },
  {
   "cell_type": "code",
   "execution_count": 22,
   "metadata": {},
   "outputs": [],
   "source": [
    "def sigmoid_backward(dA, Z):\n",
    "     \n",
    "    s, _ = sigmoid(Z)\n",
    "    dZ = dA * s * (1 - s) \n",
    "    \n",
    "    return dZ"
   ]
  },
  {
   "cell_type": "code",
   "execution_count": 23,
   "metadata": {},
   "outputs": [],
   "source": [
    "def relu_backward(dA, Z):\n",
    "    \n",
    "    dZ = np.array(dA, copy = True)\n",
    "    dZ[Z <= 0] = 0\n",
    "    return dZ"
   ]
  },
  {
   "cell_type": "code",
   "execution_count": 24,
   "metadata": {},
   "outputs": [],
   "source": [
    "def leaky_relu_backward(dA, Z):\n",
    "    \n",
    "    dZ = np.array(dA, copy = True)\n",
    "    dZ[Z <= 0] = 0.01\n",
    "    return dZ"
   ]
  },
  {
   "cell_type": "code",
   "execution_count": 25,
   "metadata": {},
   "outputs": [],
   "source": [
    "def tanh_backward(dA, Z):\n",
    "    \n",
    "    dZ = dA * (1 - tanh(Z))\n",
    "    return dZ"
   ]
  },
  {
   "cell_type": "code",
   "execution_count": 26,
   "metadata": {},
   "outputs": [],
   "source": [
    "def linear_backward(dZ, cache):\n",
    "    \n",
    "    A_prev, W, b = cache    \n",
    "    m = A_prev.shape[1]\n",
    "    \n",
    "    dW = np.dot(dZ, A_prev.T) / m\n",
    "    db = np.sum(dZ, axis = 1, keepdims= True) / m\n",
    "    dA_prev = np.dot(W.T, dZ)\n",
    "    \n",
    "    assert(dW.shape == W.shape)\n",
    "    assert(db.shape == b.shape)\n",
    "    assert(dA_prev.shape == A_prev.shape)\n",
    "    \n",
    "    return dA_prev, dW, db"
   ]
  },
  {
   "cell_type": "code",
   "execution_count": 27,
   "metadata": {},
   "outputs": [],
   "source": [
    "def linear_activation_backward(dA, cache, activation):\n",
    "    \n",
    "    linear_cache, activation_cache = cache\n",
    "    Z = activation_cache\n",
    "    \n",
    "    if activation == 'relu':\n",
    "        dZ = relu_backward(dA, Z)\n",
    "    elif activation == 'sigmoid':\n",
    "        dZ = sigmoid_backward(dA, Z)\n",
    "    elif activation == 'tanh':\n",
    "        dZ = tanh_backward(dA, Z)\n",
    "    elif activation == 'leaky_relu':\n",
    "        dZ = leaky_relu_backward(dA, Z)\n",
    "    else:\n",
    "        raise Exception (f'{activation} is not a valid activation name' )\n",
    "    \n",
    "    dA_prev, dW, db = linear_backward(dZ, linear_cache)\n",
    "    \n",
    "    return dA_prev, dW, db"
   ]
  },
  {
   "cell_type": "markdown",
   "metadata": {},
   "source": [
    "## Backward pass"
   ]
  },
  {
   "cell_type": "code",
   "execution_count": 28,
   "metadata": {},
   "outputs": [],
   "source": [
    "def L_model_backward(AL, Y, caches):\n",
    "    \n",
    "    \n",
    "    grads = {}\n",
    "    L = len(caches)\n",
    "    m = AL.shape[1]\n",
    "    Y = Y.reshape(AL.shape)\n",
    "    \n",
    "    # Initializing the backpropagation\n",
    "    dAL = -(np.divide(Y_train,AL) - np.divide(1-Y_train, 1 - AL))\n",
    "    \n",
    "    # Lth layer (SIGMOID -> LINEAR) gradients. Inputs: \"AL, Y, caches\". Outputs: \"grads[\"dAL\"], grads[\"dWL\"], grads[\"dbL\"]    \n",
    "    current_cache = caches[L-1]\n",
    "    grads[f'dA{L-1}'], grads[f'dW{L}'], grads[f'db{L}'] = linear_activation_backward(dAL, current_cache, activation = 'sigmoid')\n",
    "    \n",
    "    # lth layer: (RELU -> LINEAR) gradients.\n",
    "    for l in reversed(range(L-1)):\n",
    "        current_cache = caches[l]\n",
    "        grads['dA' + str(l)], grads['dW' + str(l+1)], grads['db' + str(l+1)] = linear_activation_backward(grads[\"dA\" + str(l + 1)],current_cache,'relu')\n",
    "    \n",
    "    return grads"
   ]
  },
  {
   "cell_type": "code",
   "execution_count": 29,
   "metadata": {},
   "outputs": [
    {
     "name": "stderr",
     "output_type": "stream",
     "text": [
      "/home/stanislas/anaconda3/lib/python3.7/site-packages/ipykernel_launcher.py:10: RuntimeWarning: invalid value encountered in true_divide\n",
      "  # Remove the CWD from sys.path while we load stuff.\n"
     ]
    }
   ],
   "source": [
    "gradient_descent = L_model_backward(AL, Y_train, caches)"
   ]
  },
  {
   "cell_type": "markdown",
   "metadata": {},
   "source": [
    "## Update des parameters\n"
   ]
  },
  {
   "cell_type": "code",
   "execution_count": 30,
   "metadata": {},
   "outputs": [],
   "source": [
    "def update_parameters(params, grads, learning_rate):\n",
    "    \n",
    "    L = len(params) // 2\n",
    "    for l in range(1, L+1):\n",
    "        params[f'W{l}'] = params[f'W{l}'] - learning_rate * grads[f'dW{l}']\n",
    "        params[f'b{l}'] = params[f'b{l}'] - learning_rate * grads[f'db{l}']\n",
    "    \n",
    "    return params"
   ]
  },
  {
   "cell_type": "code",
   "execution_count": 31,
   "metadata": {},
   "outputs": [
    {
     "data": {
      "text/plain": [
       "{'W1': array([[-1.0379718 ],\n",
       "        [        nan],\n",
       "        [        nan],\n",
       "        [-1.18593281]]), 'b1': array([[ 0.],\n",
       "        [nan],\n",
       "        [nan],\n",
       "        [ 0.]]), 'W2': array([[-0.68763151,  0.4657133 , -1.39582825,  0.30582205],\n",
       "        [-0.71919882,  0.35453772, -0.57514567,  1.85453257],\n",
       "        [        nan,         nan,         nan,         nan],\n",
       "        [ 0.53103639,  2.33771511, -1.29249613, -0.92938368],\n",
       "        [        nan,         nan,         nan,         nan],\n",
       "        [        nan,         nan,         nan,         nan],\n",
       "        [-0.76815344, -0.45681006, -1.26407125, -1.03306349]]), 'b2': array([[ 0.],\n",
       "        [ 0.],\n",
       "        [nan],\n",
       "        [ 0.],\n",
       "        [nan],\n",
       "        [nan],\n",
       "        [ 0.]]), 'W3': array([[ 1.33061685, -0.45413524, -1.01288395, -0.3806624 , -0.28879495,\n",
       "          0.42639543,  1.217032  ],\n",
       "        [-1.27744089,  0.5274981 ,  0.44201899,  0.99633391, -1.25046003,\n",
       "         -0.08221519,  0.10830077],\n",
       "        [        nan,         nan,         nan,         nan,         nan,\n",
       "                 nan,         nan],\n",
       "        [ 0.07765476,  0.34862858, -1.64518507,  1.33969057, -1.60156214,\n",
       "          0.02956409,  0.6647199 ]]), 'b3': array([[ 0.],\n",
       "        [ 0.],\n",
       "        [nan],\n",
       "        [ 0.]]), 'W4': array([[nan, nan, nan, nan]]), 'b4': array([[nan]])}"
      ]
     },
     "execution_count": 31,
     "metadata": {},
     "output_type": "execute_result"
    }
   ],
   "source": [
    "\n",
    "update_parameters(params,gradient_descent,learning_rate =12)"
   ]
  },
  {
   "cell_type": "code",
   "execution_count": null,
   "metadata": {},
   "outputs": [],
   "source": []
  },
  {
   "cell_type": "code",
   "execution_count": null,
   "metadata": {},
   "outputs": [],
   "source": []
  }
 ],
 "metadata": {
  "kernelspec": {
   "display_name": "Python 3",
   "language": "python",
   "name": "python3"
  },
  "language_info": {
   "codemirror_mode": {
    "name": "ipython",
    "version": 3
   },
   "file_extension": ".py",
   "mimetype": "text/x-python",
   "name": "python",
   "nbconvert_exporter": "python",
   "pygments_lexer": "ipython3",
   "version": "3.7.3"
  }
 },
 "nbformat": 4,
 "nbformat_minor": 2
}
